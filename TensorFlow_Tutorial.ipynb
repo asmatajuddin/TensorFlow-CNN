{
  "nbformat": 4,
  "nbformat_minor": 0,
  "metadata": {
    "colab": {
      "provenance": []
    },
    "kernelspec": {
      "name": "python3",
      "display_name": "Python 3"
    },
    "language_info": {
      "name": "python"
    }
  },
  "cells": [
    {
      "cell_type": "markdown",
      "source": [
        "TensorFlow Tutorial"
      ],
      "metadata": {
        "id": "Xr60Rr1T9-Js"
      }
    },
    {
      "cell_type": "code",
      "source": [
        "import tensorflow as tf"
      ],
      "metadata": {
        "id": "-XuiqAgk9-um"
      },
      "execution_count": null,
      "outputs": []
    },
    {
      "cell_type": "code",
      "source": [
        "config=tf.ConfigProto(log_device_placement=True)"
      ],
      "metadata": {
        "id": "OPmwmC9--D5j"
      },
      "execution_count": null,
      "outputs": []
    },
    {
      "cell_type": "code",
      "source": [
        "config=tf.ConfigProto(allow_soft_placement=True)"
      ],
      "metadata": {
        "id": "UDbLX5vK-Hew"
      },
      "execution_count": null,
      "outputs": []
    },
    {
      "cell_type": "code",
      "source": [
        "def load_data(data_directory):\n",
        "    directories = [d for d in os.listdir(data_directory)\n",
        "                   if os.path.isdir(os.path.join(data_directory, d))]\n",
        "    labels = []\n",
        "    images = []\n",
        "    for d in directories:\n",
        "        label_directory = os.path.join(data_directory, d)\n",
        "        file_names = [os.path.join(label_directory, f)\n",
        "                      for f in os.listdir(label_directory)\n",
        "                      if f.endswith(\".ppm\")]\n",
        "        for f in file_names:\n",
        "            images.append(skimage.data.imread(f))\n",
        "            labels.append(int(d))\n",
        "    return images, labels\n",
        "\n",
        "ROOT_PATH = \"/your/root/path\"\n",
        "train_data_directory = os.path.join(ROOT_PATH, \"TrafficSigns/Training\")\n",
        "test_data_directory = os.path.join(ROOT_PATH, \"TrafficSigns/Testing\")\n",
        "\n",
        "images, labels = load_data(train_data_directory)"
      ],
      "metadata": {
        "id": "3Zt0J-PA-JSE"
      },
      "execution_count": null,
      "outputs": []
    },
    {
      "cell_type": "code",
      "source": [
        "# Import the `pyplot` module of `matplotlib`\n",
        "import matplotlib.pyplot as plt\n",
        "\n",
        "# Determine the (random) indexes of the images that you want to see\n",
        "traffic_signs = [300, 2250, 3650, 4000]\n",
        "\n",
        "# Fill out the subplots with the random images that you defined\n",
        "for i in range(len(traffic_signs)):\n",
        "    plt.subplot(1, 4, i+1)\n",
        "    plt.axis('off')\n",
        "    plt.imshow(images[traffic_signs[i]])\n",
        "    plt.subplots_adjust(wspace=0.5)\n",
        "\n",
        "plt.show()"
      ],
      "metadata": {
        "id": "6_lToVLt-NH9"
      },
      "execution_count": null,
      "outputs": []
    },
    {
      "cell_type": "code",
      "source": [
        "# Import `matplotlib`\n",
        "import matplotlib.pyplot as plt\n",
        "\n",
        "# Determine the (random) indexes of the images\n",
        "traffic_signs = [300, 2250, 3650, 4000]\n",
        "\n",
        "# Fill out the subplots with the random images and add shape, min and max values\n",
        "for i in range(len(traffic_signs)):\n",
        "    plt.subplot(1, 4, i+1)\n",
        "    plt.axis('off')\n",
        "    plt.imshow(images[traffic_signs[i]])\n",
        "    plt.subplots_adjust(wspace=0.5)\n",
        "    plt.show()\n",
        "    print(\"shape: {0}, min: {1}, max: {2}\".format(images[traffic_signs[i]].shape,\n",
        "                                                  images[traffic_signs[i]].min(),\n",
        "                                                  images[traffic_signs[i]].max()))"
      ],
      "metadata": {
        "id": "W2uV7D8t-RoF"
      },
      "execution_count": null,
      "outputs": []
    },
    {
      "cell_type": "code",
      "source": [
        "# Import the `pyplot` module as `plt`\n",
        "import matplotlib.pyplot as plt\n",
        "\n",
        "# Get the unique labels\n",
        "unique_labels = set(labels)\n",
        "\n",
        "# Initialize the figure\n",
        "plt.figure(figsize=(15, 15))\n",
        "\n",
        "# Set a counter\n",
        "i = 1\n",
        "\n",
        "# For each unique label,\n",
        "for label in unique_labels:\n",
        "    # You pick the first image for each label\n",
        "    image = images[labels.index(label)]\n",
        "    # Define 64 subplots\n",
        "    plt.subplot(8, 8, i)\n",
        "    # Don't include axes\n",
        "    plt.axis('off')\n",
        "    # Add a title to each subplot\n",
        "    plt.title(\"Label {0} ({1})\".format(label, labels.count(label)))\n",
        "    # Add 1 to the counter\n",
        "    i += 1\n",
        "    # And you plot this first image\n",
        "    plt.imshow(image)\n",
        "\n",
        "# Show the plot\n",
        "plt.show()"
      ],
      "metadata": {
        "id": "5Atb7VtP-TuC"
      },
      "execution_count": null,
      "outputs": []
    },
    {
      "cell_type": "code",
      "source": [
        "# Import the `transform` module from `skimage`\n",
        "from skimage import transform\n",
        "\n",
        "# Rescale the images in the `images` array\n",
        "images28 = [transform.resize(image, (28, 28)) for image in images]"
      ],
      "metadata": {
        "id": "B9OJPHtX-XDG"
      },
      "execution_count": null,
      "outputs": []
    },
    {
      "cell_type": "code",
      "source": [
        "# Import `rgb2gray` from `skimage.color`\n",
        "from skimage.color import rgb2gray\n",
        "\n",
        "# Convert `images28` to an array\n",
        "images28 = np.array(images28)\n",
        "\n",
        "# Convert `images28` to grayscale\n",
        "images28 = rgb2gray(images28)"
      ],
      "metadata": {
        "id": "p7TqVSJQ-cPo"
      },
      "execution_count": null,
      "outputs": []
    },
    {
      "cell_type": "code",
      "source": [
        "import matplotlib.pyplot as plt\n",
        "\n",
        "traffic_signs = [300, 2250, 3650, 4000]\n",
        "\n",
        "for i in range(len(traffic_signs)):\n",
        "    plt.subplot(1, 4, i+1)\n",
        "    plt.axis('off')\n",
        "    plt.imshow(images28[traffic_signs[i]], cmap=\"gray\")\n",
        "    plt.subplots_adjust(wspace=0.5)\n",
        "\n",
        "# Show the plot\n",
        "plt.show()"
      ],
      "metadata": {
        "id": "c_ilWoJ0-fMi"
      },
      "execution_count": null,
      "outputs": []
    },
    {
      "cell_type": "code",
      "source": [
        "sparse_softmax_cross_entropy_with_logits()"
      ],
      "metadata": {
        "id": "r6G5tpck-gq-"
      },
      "execution_count": null,
      "outputs": []
    },
    {
      "cell_type": "code",
      "source": [
        "# Import `tensorflow`\n",
        "import tensorflow as tf\n",
        "\n",
        "# Initialize placeholders\n",
        "x = tf.placeholder(dtype = tf.float32, shape = [None, 28, 28])\n",
        "y = tf.placeholder(dtype = tf.int32, shape = [None])\n",
        "\n",
        "# Flatten the input data\n",
        "images_flat = tf.contrib.layers.flatten(x)\n",
        "\n",
        "# Fully connected layer\n",
        "logits = tf.contrib.layers.fully_connected(images_flat, 62, tf.nn.relu)\n",
        "\n",
        "# Define a loss function\n",
        "loss = tf.reduce_mean(tf.nn.sparse_softmax_cross_entropy_with_logits(labels = y,\n",
        "                                                                    logits = logits))\n",
        "# Define an optimizer\n",
        "train_op = tf.train.AdamOptimizer(learning_rate=0.001).minimize(loss)\n",
        "\n",
        "# Convert logits to label indexes\n",
        "correct_pred = tf.argmax(logits, 1)\n",
        "\n",
        "# Define an accuracy metric\n",
        "accuracy = tf.reduce_mean(tf.cast(correct_pred, tf.float32))"
      ],
      "metadata": {
        "id": "_dh8joKV-i6q"
      },
      "execution_count": null,
      "outputs": []
    },
    {
      "cell_type": "code",
      "source": [
        "print(\"images_flat: \", images_flat)\n",
        "print(\"logits: \", logits)\n",
        "print(\"loss: \", loss)\n",
        "print(\"predicted_labels: \", correct_pred)"
      ],
      "metadata": {
        "id": "JGBt8-NW-lS3"
      },
      "execution_count": null,
      "outputs": []
    },
    {
      "cell_type": "code",
      "source": [
        "tf.set_random_seed(1234)\n",
        "sess = tf.Session()\n",
        "\n",
        "sess.run(tf.global_variables_initializer())\n",
        "\n",
        "for i in range(201):\n",
        "        print('EPOCH', i)\n",
        "        _, accuracy_val = sess.run([train_op, accuracy], feed_dict={x: images28, y: labels})\n",
        "        if i % 10 == 0:\n",
        "            print(\"Loss: \", loss)\n",
        "        print('DONE WITH EPOCH')"
      ],
      "metadata": {
        "id": "MPsyr6os-oP5"
      },
      "execution_count": null,
      "outputs": []
    },
    {
      "cell_type": "code",
      "source": [
        "tf.set_random_seed(1234)\n",
        "\n",
        "with tf.Session() as sess:\n",
        "    sess.run(tf.global_variables_initializer())\n",
        "    for i in range(201):\n",
        "        _, loss_value = sess.run([train_op, loss], feed_dict={x: images28, y: labels})\n",
        "        if i % 10 == 0:\n",
        "            print(\"Loss: \", loss)"
      ],
      "metadata": {
        "id": "KihDbjyh-ri5"
      },
      "execution_count": null,
      "outputs": []
    },
    {
      "cell_type": "code",
      "source": [
        " # Import `matplotlib`\n",
        "import matplotlib.pyplot as plt\n",
        "import random\n",
        "\n",
        "# Pick 10 random images\n",
        "sample_indexes = random.sample(range(len(images28)), 10)\n",
        "sample_images = [images28[i] for i in sample_indexes]\n",
        "sample_labels = [labels[i] for i in sample_indexes]\n",
        "\n",
        "# Run the \"correct_pred\" operation\n",
        "predicted = sess.run([correct_pred], feed_dict={x: sample_images})[0]\n",
        "\n",
        "# Print the real and predicted labels\n",
        "print(sample_labels)\n",
        "print(predicted)\n",
        "\n",
        "# Display the predictions and the ground truth visually.\n",
        "fig = plt.figure(figsize=(10, 10))\n",
        "for i in range(len(sample_images)):\n",
        "    truth = sample_labels[i]\n",
        "    prediction = predicted[i]\n",
        "    plt.subplot(5, 2,1+i)\n",
        "    plt.axis('off')\n",
        "    color='green' if truth == prediction else 'red'\n",
        "    plt.text(40, 10, \"Truth:        {0}\\nPrediction: {1}\".format(truth, prediction),\n",
        "             fontsize=12, color=color)\n",
        "    plt.imshow(sample_images[i],  cmap=\"gray\")\n",
        "\n",
        "plt.show()"
      ],
      "metadata": {
        "id": "BDHKMdYh-tCl"
      },
      "execution_count": null,
      "outputs": []
    },
    {
      "cell_type": "code",
      "source": [
        "# Import `skimage`\n",
        "from skimage import transform\n",
        "\n",
        "# Load the test data\n",
        "test_images, test_labels = load_data(test_data_directory)\n",
        "\n",
        "# Transform the images to 28 by 28 pixels\n",
        "test_images28 = [transform.resize(image, (28, 28)) for image in test_images]\n",
        "\n",
        "# Convert to grayscale\n",
        "from skimage.color import rgb2gray\n",
        "test_images28 = rgb2gray(np.array(test_images28))\n",
        "\n",
        "# Run predictions against the full test set.\n",
        "predicted = sess.run([correct_pred], feed_dict={x: test_images28})[0]\n",
        "\n",
        "# Calculate correct matches\n",
        "match_count = sum([int(y == y_) for y, y_ in zip(test_labels, predicted)])\n",
        "\n",
        "# Calculate the accuracy\n",
        "accuracy = match_count / len(test_labels)\n",
        "\n",
        "# Print the accuracy\n",
        "print(\"Accuracy: {:.3f}\".format(accuracy))"
      ],
      "metadata": {
        "id": "TTUVk0Rl-vy2"
      },
      "execution_count": null,
      "outputs": []
    },
    {
      "cell_type": "code",
      "source": [],
      "metadata": {
        "id": "tKeUwTBL-ymd"
      },
      "execution_count": null,
      "outputs": []
    }
  ]
}